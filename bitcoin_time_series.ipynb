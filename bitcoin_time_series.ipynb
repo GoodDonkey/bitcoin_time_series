{
 "cells": [
  {
   "cell_type": "markdown",
   "id": "d1b8abd2",
   "metadata": {},
   "source": [
    "### 비트코인 시계열 예제"
   ]
  },
  {
   "cell_type": "code",
   "execution_count": 82,
   "id": "e66acf00",
   "metadata": {},
   "outputs": [],
   "source": [
    "import pandas as pd\n",
    "import numpy as np\n",
    "import matplotlib.pyplot as plt\n",
    "import seaborn as sns\n",
    "import matplotlib as mp\n",
    "\n",
    "%matplotlib inline"
   ]
  },
  {
   "cell_type": "code",
   "execution_count": 22,
   "id": "19ba9bb4",
   "metadata": {},
   "outputs": [
    {
     "data": {
      "text/html": [
       "<div>\n",
       "<style scoped>\n",
       "    .dataframe tbody tr th:only-of-type {\n",
       "        vertical-align: middle;\n",
       "    }\n",
       "\n",
       "    .dataframe tbody tr th {\n",
       "        vertical-align: top;\n",
       "    }\n",
       "\n",
       "    .dataframe thead th {\n",
       "        text-align: right;\n",
       "    }\n",
       "</style>\n",
       "<table border=\"1\" class=\"dataframe\">\n",
       "  <thead>\n",
       "    <tr style=\"text-align: right;\">\n",
       "      <th></th>\n",
       "      <th>day</th>\n",
       "      <th>price</th>\n",
       "    </tr>\n",
       "  </thead>\n",
       "  <tbody>\n",
       "    <tr>\n",
       "      <th>0</th>\n",
       "      <td>2017-08-27 00:00:00</td>\n",
       "      <td>4354.308333</td>\n",
       "    </tr>\n",
       "    <tr>\n",
       "      <th>1</th>\n",
       "      <td>2017-08-28 00:00:00</td>\n",
       "      <td>4391.673517</td>\n",
       "    </tr>\n",
       "    <tr>\n",
       "      <th>2</th>\n",
       "      <td>2017-08-29 00:00:00</td>\n",
       "      <td>4607.985450</td>\n",
       "    </tr>\n",
       "    <tr>\n",
       "      <th>3</th>\n",
       "      <td>2017-08-30 00:00:00</td>\n",
       "      <td>4594.987850</td>\n",
       "    </tr>\n",
       "    <tr>\n",
       "      <th>4</th>\n",
       "      <td>2017-08-31 00:00:00</td>\n",
       "      <td>4748.255000</td>\n",
       "    </tr>\n",
       "    <tr>\n",
       "      <th>...</th>\n",
       "      <td>...</td>\n",
       "      <td>...</td>\n",
       "    </tr>\n",
       "    <tr>\n",
       "      <th>360</th>\n",
       "      <td>2018-08-22 00:00:00</td>\n",
       "      <td>6575.229167</td>\n",
       "    </tr>\n",
       "    <tr>\n",
       "      <th>361</th>\n",
       "      <td>2018-08-23 00:00:00</td>\n",
       "      <td>6434.881667</td>\n",
       "    </tr>\n",
       "    <tr>\n",
       "      <th>362</th>\n",
       "      <td>2018-08-24 00:00:00</td>\n",
       "      <td>6543.645714</td>\n",
       "    </tr>\n",
       "    <tr>\n",
       "      <th>363</th>\n",
       "      <td>2018-08-25 00:00:00</td>\n",
       "      <td>6719.429231</td>\n",
       "    </tr>\n",
       "    <tr>\n",
       "      <th>364</th>\n",
       "      <td>2018-08-26 00:00:00</td>\n",
       "      <td>6673.274167</td>\n",
       "    </tr>\n",
       "  </tbody>\n",
       "</table>\n",
       "<p>365 rows × 2 columns</p>\n",
       "</div>"
      ],
      "text/plain": [
       "                     day        price\n",
       "0    2017-08-27 00:00:00  4354.308333\n",
       "1    2017-08-28 00:00:00  4391.673517\n",
       "2    2017-08-29 00:00:00  4607.985450\n",
       "3    2017-08-30 00:00:00  4594.987850\n",
       "4    2017-08-31 00:00:00  4748.255000\n",
       "..                   ...          ...\n",
       "360  2018-08-22 00:00:00  6575.229167\n",
       "361  2018-08-23 00:00:00  6434.881667\n",
       "362  2018-08-24 00:00:00  6543.645714\n",
       "363  2018-08-25 00:00:00  6719.429231\n",
       "364  2018-08-26 00:00:00  6673.274167\n",
       "\n",
       "[365 rows x 2 columns]"
      ]
     },
     "execution_count": 22,
     "metadata": {},
     "output_type": "execute_result"
    }
   ],
   "source": [
    "bitcoin_df = pd.read_csv(\"market-price.csv\", names = ['day', 'price'])\n",
    "bitcoin_df"
   ]
  },
  {
   "cell_type": "code",
   "execution_count": 5,
   "id": "60af35e6",
   "metadata": {
    "scrolled": true
   },
   "outputs": [
    {
     "data": {
      "text/html": [
       "<div>\n",
       "<style scoped>\n",
       "    .dataframe tbody tr th:only-of-type {\n",
       "        vertical-align: middle;\n",
       "    }\n",
       "\n",
       "    .dataframe tbody tr th {\n",
       "        vertical-align: top;\n",
       "    }\n",
       "\n",
       "    .dataframe thead th {\n",
       "        text-align: right;\n",
       "    }\n",
       "</style>\n",
       "<table border=\"1\" class=\"dataframe\">\n",
       "  <thead>\n",
       "    <tr style=\"text-align: right;\">\n",
       "      <th></th>\n",
       "      <th>day</th>\n",
       "      <th>price</th>\n",
       "    </tr>\n",
       "  </thead>\n",
       "  <tbody>\n",
       "    <tr>\n",
       "      <th>0</th>\n",
       "      <td>2017-08-27</td>\n",
       "      <td>4354.308333</td>\n",
       "    </tr>\n",
       "    <tr>\n",
       "      <th>1</th>\n",
       "      <td>2017-08-28</td>\n",
       "      <td>4391.673517</td>\n",
       "    </tr>\n",
       "    <tr>\n",
       "      <th>2</th>\n",
       "      <td>2017-08-29</td>\n",
       "      <td>4607.985450</td>\n",
       "    </tr>\n",
       "    <tr>\n",
       "      <th>3</th>\n",
       "      <td>2017-08-30</td>\n",
       "      <td>4594.987850</td>\n",
       "    </tr>\n",
       "    <tr>\n",
       "      <th>4</th>\n",
       "      <td>2017-08-31</td>\n",
       "      <td>4748.255000</td>\n",
       "    </tr>\n",
       "    <tr>\n",
       "      <th>...</th>\n",
       "      <td>...</td>\n",
       "      <td>...</td>\n",
       "    </tr>\n",
       "    <tr>\n",
       "      <th>360</th>\n",
       "      <td>2018-08-22</td>\n",
       "      <td>6575.229167</td>\n",
       "    </tr>\n",
       "    <tr>\n",
       "      <th>361</th>\n",
       "      <td>2018-08-23</td>\n",
       "      <td>6434.881667</td>\n",
       "    </tr>\n",
       "    <tr>\n",
       "      <th>362</th>\n",
       "      <td>2018-08-24</td>\n",
       "      <td>6543.645714</td>\n",
       "    </tr>\n",
       "    <tr>\n",
       "      <th>363</th>\n",
       "      <td>2018-08-25</td>\n",
       "      <td>6719.429231</td>\n",
       "    </tr>\n",
       "    <tr>\n",
       "      <th>364</th>\n",
       "      <td>2018-08-26</td>\n",
       "      <td>6673.274167</td>\n",
       "    </tr>\n",
       "  </tbody>\n",
       "</table>\n",
       "<p>365 rows × 2 columns</p>\n",
       "</div>"
      ],
      "text/plain": [
       "           day        price\n",
       "0   2017-08-27  4354.308333\n",
       "1   2017-08-28  4391.673517\n",
       "2   2017-08-29  4607.985450\n",
       "3   2017-08-30  4594.987850\n",
       "4   2017-08-31  4748.255000\n",
       "..         ...          ...\n",
       "360 2018-08-22  6575.229167\n",
       "361 2018-08-23  6434.881667\n",
       "362 2018-08-24  6543.645714\n",
       "363 2018-08-25  6719.429231\n",
       "364 2018-08-26  6673.274167\n",
       "\n",
       "[365 rows x 2 columns]"
      ]
     },
     "execution_count": 5,
     "metadata": {},
     "output_type": "execute_result"
    }
   ],
   "source": [
    "bitcoin_df['day'] = pd.to_datetime(bitcoin_df['day'])\n",
    "bitcoin_df"
   ]
  },
  {
   "cell_type": "code",
   "execution_count": 52,
   "id": "1abfd0f8",
   "metadata": {},
   "outputs": [
    {
     "name": "stdout",
     "output_type": "stream",
     "text": [
      "<class 'pandas.core.frame.DataFrame'>\n",
      "RangeIndex: 365 entries, 0 to 364\n",
      "Data columns (total 2 columns):\n",
      " #   Column  Non-Null Count  Dtype  \n",
      "---  ------  --------------  -----  \n",
      " 0   day     365 non-null    object \n",
      " 1   price   365 non-null    float64\n",
      "dtypes: float64(1), object(1)\n",
      "memory usage: 5.8+ KB\n"
     ]
    }
   ],
   "source": [
    "bitcoin_df.info()"
   ]
  },
  {
   "cell_type": "code",
   "execution_count": 10,
   "id": "f2b86646",
   "metadata": {},
   "outputs": [],
   "source": [
    "bitcoin_df.index = bitcoin_df['day']\n",
    "bitcoin_df.set_index('day', inplace = True)"
   ]
  },
  {
   "cell_type": "code",
   "execution_count": 11,
   "id": "f248a5d5",
   "metadata": {},
   "outputs": [
    {
     "data": {
      "text/html": [
       "<div>\n",
       "<style scoped>\n",
       "    .dataframe tbody tr th:only-of-type {\n",
       "        vertical-align: middle;\n",
       "    }\n",
       "\n",
       "    .dataframe tbody tr th {\n",
       "        vertical-align: top;\n",
       "    }\n",
       "\n",
       "    .dataframe thead th {\n",
       "        text-align: right;\n",
       "    }\n",
       "</style>\n",
       "<table border=\"1\" class=\"dataframe\">\n",
       "  <thead>\n",
       "    <tr style=\"text-align: right;\">\n",
       "      <th></th>\n",
       "      <th>price</th>\n",
       "    </tr>\n",
       "    <tr>\n",
       "      <th>day</th>\n",
       "      <th></th>\n",
       "    </tr>\n",
       "  </thead>\n",
       "  <tbody>\n",
       "    <tr>\n",
       "      <th>2017-08-27</th>\n",
       "      <td>4354.308333</td>\n",
       "    </tr>\n",
       "    <tr>\n",
       "      <th>2017-08-28</th>\n",
       "      <td>4391.673517</td>\n",
       "    </tr>\n",
       "    <tr>\n",
       "      <th>2017-08-29</th>\n",
       "      <td>4607.985450</td>\n",
       "    </tr>\n",
       "    <tr>\n",
       "      <th>2017-08-30</th>\n",
       "      <td>4594.987850</td>\n",
       "    </tr>\n",
       "    <tr>\n",
       "      <th>2017-08-31</th>\n",
       "      <td>4748.255000</td>\n",
       "    </tr>\n",
       "    <tr>\n",
       "      <th>...</th>\n",
       "      <td>...</td>\n",
       "    </tr>\n",
       "    <tr>\n",
       "      <th>2018-08-22</th>\n",
       "      <td>6575.229167</td>\n",
       "    </tr>\n",
       "    <tr>\n",
       "      <th>2018-08-23</th>\n",
       "      <td>6434.881667</td>\n",
       "    </tr>\n",
       "    <tr>\n",
       "      <th>2018-08-24</th>\n",
       "      <td>6543.645714</td>\n",
       "    </tr>\n",
       "    <tr>\n",
       "      <th>2018-08-25</th>\n",
       "      <td>6719.429231</td>\n",
       "    </tr>\n",
       "    <tr>\n",
       "      <th>2018-08-26</th>\n",
       "      <td>6673.274167</td>\n",
       "    </tr>\n",
       "  </tbody>\n",
       "</table>\n",
       "<p>365 rows × 1 columns</p>\n",
       "</div>"
      ],
      "text/plain": [
       "                  price\n",
       "day                    \n",
       "2017-08-27  4354.308333\n",
       "2017-08-28  4391.673517\n",
       "2017-08-29  4607.985450\n",
       "2017-08-30  4594.987850\n",
       "2017-08-31  4748.255000\n",
       "...                 ...\n",
       "2018-08-22  6575.229167\n",
       "2018-08-23  6434.881667\n",
       "2018-08-24  6543.645714\n",
       "2018-08-25  6719.429231\n",
       "2018-08-26  6673.274167\n",
       "\n",
       "[365 rows x 1 columns]"
      ]
     },
     "execution_count": 11,
     "metadata": {},
     "output_type": "execute_result"
    }
   ],
   "source": [
    "bitcoin_df"
   ]
  },
  {
   "cell_type": "code",
   "execution_count": 15,
   "id": "d4665183",
   "metadata": {},
   "outputs": [
    {
     "data": {
      "image/png": "[encoded data removed]",
      "text/plain": [
       "<Figure size 432x288 with 1 Axes>"
      ]
     },
     "metadata": {
      "needs_background": "light"
     },
     "output_type": "display_data"
    }
   ],
   "source": [
    "bitcoin_df.plot()\n",
    "plt.show()"
   ]
  },
  {
   "cell_type": "markdown",
   "id": "514d3e64",
   "metadata": {},
   "source": [
    "# 데이터 나눠서 시계열 적용해보기"
   ]
  },
  {
   "cell_type": "code",
   "execution_count": 68,
   "id": "259f3700",
   "metadata": {},
   "outputs": [],
   "source": [
    "from statsmodels.tsa.arima_model import ARIMA\n",
    "import statsmodels.api as sm"
   ]
  },
  {
   "cell_type": "markdown",
   "id": "f042ed61",
   "metadata": {},
   "source": [
    "## 데이터 로드 및 전처리"
   ]
  },
  {
   "cell_type": "code",
   "execution_count": 69,
   "id": "cd422811",
   "metadata": {
    "scrolled": true
   },
   "outputs": [
    {
     "data": {
      "text/html": [
       "<div>\n",
       "<style scoped>\n",
       "    .dataframe tbody tr th:only-of-type {\n",
       "        vertical-align: middle;\n",
       "    }\n",
       "\n",
       "    .dataframe tbody tr th {\n",
       "        vertical-align: top;\n",
       "    }\n",
       "\n",
       "    .dataframe thead th {\n",
       "        text-align: right;\n",
       "    }\n",
       "</style>\n",
       "<table border=\"1\" class=\"dataframe\">\n",
       "  <thead>\n",
       "    <tr style=\"text-align: right;\">\n",
       "      <th></th>\n",
       "      <th>ds</th>\n",
       "      <th>y</th>\n",
       "    </tr>\n",
       "  </thead>\n",
       "  <tbody>\n",
       "    <tr>\n",
       "      <th>1</th>\n",
       "      <td>2020-07-04</td>\n",
       "      <td>9072.42</td>\n",
       "    </tr>\n",
       "    <tr>\n",
       "      <th>2</th>\n",
       "      <td>2020-07-05</td>\n",
       "      <td>9131.31</td>\n",
       "    </tr>\n",
       "    <tr>\n",
       "      <th>3</th>\n",
       "      <td>2020-07-06</td>\n",
       "      <td>9089.09</td>\n",
       "    </tr>\n",
       "    <tr>\n",
       "      <th>4</th>\n",
       "      <td>2020-07-07</td>\n",
       "      <td>9348.91</td>\n",
       "    </tr>\n",
       "    <tr>\n",
       "      <th>5</th>\n",
       "      <td>2020-07-08</td>\n",
       "      <td>9256.23</td>\n",
       "    </tr>\n",
       "    <tr>\n",
       "      <th>...</th>\n",
       "      <td>...</td>\n",
       "      <td>...</td>\n",
       "    </tr>\n",
       "    <tr>\n",
       "      <th>362</th>\n",
       "      <td>2021-06-30</td>\n",
       "      <td>35847.7</td>\n",
       "    </tr>\n",
       "    <tr>\n",
       "      <th>363</th>\n",
       "      <td>2021-07-01</td>\n",
       "      <td>35047.36</td>\n",
       "    </tr>\n",
       "    <tr>\n",
       "      <th>364</th>\n",
       "      <td>2021-07-02</td>\n",
       "      <td>33536.88</td>\n",
       "    </tr>\n",
       "    <tr>\n",
       "      <th>365</th>\n",
       "      <td>2021-07-03</td>\n",
       "      <td>33856.86</td>\n",
       "    </tr>\n",
       "    <tr>\n",
       "      <th>366</th>\n",
       "      <td>2021-07-04</td>\n",
       "      <td>34688.98</td>\n",
       "    </tr>\n",
       "  </tbody>\n",
       "</table>\n",
       "<p>366 rows × 2 columns</p>\n",
       "</div>"
      ],
      "text/plain": [
       "            ds         y\n",
       "1   2020-07-04   9072.42\n",
       "2   2020-07-05   9131.31\n",
       "3   2020-07-06   9089.09\n",
       "4   2020-07-07   9348.91\n",
       "5   2020-07-08   9256.23\n",
       "..         ...       ...\n",
       "362 2021-06-30   35847.7\n",
       "363 2021-07-01  35047.36\n",
       "364 2021-07-02  33536.88\n",
       "365 2021-07-03  33856.86\n",
       "366 2021-07-04  34688.98\n",
       "\n",
       "[366 rows x 2 columns]"
      ]
     },
     "execution_count": 69,
     "metadata": {},
     "output_type": "execute_result"
    }
   ],
   "source": [
    "bitcoin_test_df = pd.read_csv('market-price_210704.csv', names=['ds', 'y'])\n",
    "bitcoin_test_df = bitcoin_test_df.drop(0)\n",
    "bitcoin_test_df['ds'] = pd.to_datetime(bitcoin_test_df['ds'])\n",
    "bitcoin_test_df"
   ]
  },
  {
   "cell_type": "code",
   "execution_count": 70,
   "id": "cc4a0232",
   "metadata": {
    "scrolled": false
   },
   "outputs": [
    {
     "data": {
      "text/html": [
       "<div>\n",
       "<style scoped>\n",
       "    .dataframe tbody tr th:only-of-type {\n",
       "        vertical-align: middle;\n",
       "    }\n",
       "\n",
       "    .dataframe tbody tr th {\n",
       "        vertical-align: top;\n",
       "    }\n",
       "\n",
       "    .dataframe thead th {\n",
       "        text-align: right;\n",
       "    }\n",
       "</style>\n",
       "<table border=\"1\" class=\"dataframe\">\n",
       "  <thead>\n",
       "    <tr style=\"text-align: right;\">\n",
       "      <th></th>\n",
       "      <th>y</th>\n",
       "    </tr>\n",
       "    <tr>\n",
       "      <th>ds</th>\n",
       "      <th></th>\n",
       "    </tr>\n",
       "  </thead>\n",
       "  <tbody>\n",
       "    <tr>\n",
       "      <th>2020-07-04</th>\n",
       "      <td>9072.42</td>\n",
       "    </tr>\n",
       "    <tr>\n",
       "      <th>2020-07-05</th>\n",
       "      <td>9131.31</td>\n",
       "    </tr>\n",
       "    <tr>\n",
       "      <th>2020-07-06</th>\n",
       "      <td>9089.09</td>\n",
       "    </tr>\n",
       "    <tr>\n",
       "      <th>2020-07-07</th>\n",
       "      <td>9348.91</td>\n",
       "    </tr>\n",
       "    <tr>\n",
       "      <th>2020-07-08</th>\n",
       "      <td>9256.23</td>\n",
       "    </tr>\n",
       "    <tr>\n",
       "      <th>...</th>\n",
       "      <td>...</td>\n",
       "    </tr>\n",
       "    <tr>\n",
       "      <th>2021-06-30</th>\n",
       "      <td>35847.7</td>\n",
       "    </tr>\n",
       "    <tr>\n",
       "      <th>2021-07-01</th>\n",
       "      <td>35047.36</td>\n",
       "    </tr>\n",
       "    <tr>\n",
       "      <th>2021-07-02</th>\n",
       "      <td>33536.88</td>\n",
       "    </tr>\n",
       "    <tr>\n",
       "      <th>2021-07-03</th>\n",
       "      <td>33856.86</td>\n",
       "    </tr>\n",
       "    <tr>\n",
       "      <th>2021-07-04</th>\n",
       "      <td>34688.98</td>\n",
       "    </tr>\n",
       "  </tbody>\n",
       "</table>\n",
       "<p>366 rows × 1 columns</p>\n",
       "</div>"
      ],
      "text/plain": [
       "                   y\n",
       "ds                  \n",
       "2020-07-04   9072.42\n",
       "2020-07-05   9131.31\n",
       "2020-07-06   9089.09\n",
       "2020-07-07   9348.91\n",
       "2020-07-08   9256.23\n",
       "...              ...\n",
       "2021-06-30   35847.7\n",
       "2021-07-01  35047.36\n",
       "2021-07-02  33536.88\n",
       "2021-07-03  33856.86\n",
       "2021-07-04  34688.98\n",
       "\n",
       "[366 rows x 1 columns]"
      ]
     },
     "execution_count": 70,
     "metadata": {},
     "output_type": "execute_result"
    }
   ],
   "source": [
    "bitcoin_test_df.index = bitcoin_test_df['ds']\n",
    "bitcoin_test_df.set_index('ds', inplace=True)\n",
    "bitcoin_test_df"
   ]
  },
  {
   "cell_type": "code",
   "execution_count": 71,
   "id": "4efec1ac",
   "metadata": {},
   "outputs": [
    {
     "name": "stdout",
     "output_type": "stream",
     "text": [
      "<class 'pandas.core.frame.DataFrame'>\n",
      "DatetimeIndex: 366 entries, 2020-07-04 to 2021-07-04\n",
      "Data columns (total 1 columns):\n",
      " #   Column  Non-Null Count  Dtype \n",
      "---  ------  --------------  ----- \n",
      " 0   y       366 non-null    object\n",
      "dtypes: object(1)\n",
      "memory usage: 5.7+ KB\n"
     ]
    }
   ],
   "source": [
    "bitcoin_test_df.info()"
   ]
  },
  {
   "cell_type": "markdown",
   "id": "13b1b19b",
   "metadata": {},
   "source": [
    "### plot을 그리기 위해 numeric 값으로 변경"
   ]
  },
  {
   "cell_type": "code",
   "execution_count": 72,
   "id": "214bc25d",
   "metadata": {},
   "outputs": [],
   "source": [
    "bitcoin_test_df['y'] = pd.to_numeric(bitcoin_test_df['y'])"
   ]
  },
  {
   "cell_type": "code",
   "execution_count": 73,
   "id": "7d48df0b",
   "metadata": {
    "scrolled": true
   },
   "outputs": [
    {
     "data": {
      "text/plain": [
       "<AxesSubplot:xlabel='ds'>"
      ]
     },
     "execution_count": 73,
     "metadata": {},
     "output_type": "execute_result"
    },
    {
     "data": {
      "image/png": "[encoded data removed]",
      "text/plain": [
       "<Figure size 432x288 with 1 Axes>"
      ]
     },
     "metadata": {
      "needs_background": "light"
     },
     "output_type": "display_data"
    }
   ],
   "source": [
    "bitcoin_test_df.plot()"
   ]
  },
  {
   "cell_type": "markdown",
   "id": "e6be8fb1",
   "metadata": {},
   "source": [
    "## 데이터를 나눠서 예측해보자. 마지막 5개일 데이터를 target이라고 하자."
   ]
  },
  {
   "cell_type": "code",
   "execution_count": 74,
   "id": "d7a8b5a3",
   "metadata": {},
   "outputs": [
    {
     "name": "stdout",
     "output_type": "stream",
     "text": [
      "                   y\n",
      "ds                  \n",
      "2020-07-04   9072.42\n",
      "2020-07-05   9131.31\n",
      "2020-07-06   9089.09\n",
      "2020-07-07   9348.91\n",
      "2020-07-08   9256.23\n",
      "...              ...\n",
      "2021-06-25  34639.38\n",
      "2021-06-26  31640.58\n",
      "2021-06-27  32160.91\n",
      "2021-06-28  34644.45\n",
      "2021-06-29  34456.67\n",
      "\n",
      "[361 rows x 1 columns]\n",
      "\n",
      "\n",
      "-------------------------------------------\n",
      "                   y\n",
      "ds                  \n",
      "2021-06-30  35847.70\n",
      "2021-07-01  35047.36\n",
      "2021-07-02  33536.88\n",
      "2021-07-03  33856.86\n",
      "2021-07-04  34688.98\n"
     ]
    }
   ],
   "source": [
    "# 데이터를 나눠서 예측해보자. 마지막 5개일 데이터를 target이라고 하자.\n",
    "bitcoin_test_df_train = bitcoin_test_df.iloc[:-5, :]\n",
    "target = bitcoin_test_df.iloc[-5:,:]\n",
    "\n",
    "print(bitcoin_test_df_train)\n",
    "print('\\n\\n-------------------------------------------')\n",
    "print(target)"
   ]
  },
  {
   "cell_type": "markdown",
   "id": "347758bd",
   "metadata": {},
   "source": [
    "## ARIMA 모델 fit"
   ]
  },
  {
   "cell_type": "code",
   "execution_count": 75,
   "id": "b838e716",
   "metadata": {},
   "outputs": [
    {
     "name": "stdout",
     "output_type": "stream",
     "text": [
      "                             ARIMA Model Results                              \n",
      "==============================================================================\n",
      "Dep. Variable:                    D.y   No. Observations:                  360\n",
      "Model:                 ARIMA(2, 1, 2)   Log Likelihood               -3153.663\n",
      "Method:                       css-mle   S.D. of innovations           1542.530\n",
      "Date:                Sun, 04 Jul 2021   AIC                           6319.327\n",
      "Time:                        16:21:48   BIC                           6342.643\n",
      "Sample:                             1   HQIC                          6328.598\n",
      "                                                                              \n",
      "==============================================================================\n",
      "                 coef    std err          z      P>|z|      [0.025      0.975]\n",
      "------------------------------------------------------------------------------\n",
      "const         70.5139     87.189      0.809      0.419    -100.373     241.401\n",
      "ar.L1.D.y      0.6232      0.623      1.000      0.317      -0.598       1.844\n",
      "ar.L2.D.y     -0.1531      0.722     -0.212      0.832      -1.568       1.262\n",
      "ma.L1.D.y     -0.7273      0.605     -1.202      0.230      -1.914       0.459\n",
      "ma.L2.D.y      0.2963      0.710      0.417      0.677      -1.096       1.689\n",
      "                                    Roots                                    \n",
      "=============================================================================\n",
      "                  Real          Imaginary           Modulus         Frequency\n",
      "-----------------------------------------------------------------------------\n",
      "AR.1            2.0346           -1.5461j            2.5554           -0.1034\n",
      "AR.2            2.0346           +1.5461j            2.5554            0.1034\n",
      "MA.1            1.2275           -1.3670j            1.8372           -0.1335\n",
      "MA.2            1.2275           +1.3670j            1.8372            0.1335\n",
      "-----------------------------------------------------------------------------\n"
     ]
    },
    {
     "name": "stderr",
     "output_type": "stream",
     "text": [
      "/opt/anaconda3/lib/python3.8/site-packages/statsmodels/tsa/arima_model.py:472: FutureWarning: \n",
      "statsmodels.tsa.arima_model.ARMA and statsmodels.tsa.arima_model.ARIMA have\n",
      "been deprecated in favor of statsmodels.tsa.arima.model.ARIMA (note the .\n",
      "between arima and model) and\n",
      "statsmodels.tsa.SARIMAX. These will be removed after the 0.12 release.\n",
      "\n",
      "statsmodels.tsa.arima.model.ARIMA makes use of the statespace framework and\n",
      "is both well tested and maintained.\n",
      "\n",
      "To silence this warning and continue using ARMA and ARIMA until they are\n",
      "removed, use:\n",
      "\n",
      "import warnings\n",
      "warnings.filterwarnings('ignore', 'statsmodels.tsa.arima_model.ARMA',\n",
      "                        FutureWarning)\n",
      "warnings.filterwarnings('ignore', 'statsmodels.tsa.arima_model.ARIMA',\n",
      "                        FutureWarning)\n",
      "\n",
      "  warnings.warn(ARIMA_DEPRECATION_WARN, FutureWarning)\n",
      "/opt/anaconda3/lib/python3.8/site-packages/statsmodels/tsa/arima_model.py:472: FutureWarning: \n",
      "statsmodels.tsa.arima_model.ARMA and statsmodels.tsa.arima_model.ARIMA have\n",
      "been deprecated in favor of statsmodels.tsa.arima.model.ARIMA (note the .\n",
      "between arima and model) and\n",
      "statsmodels.tsa.SARIMAX. These will be removed after the 0.12 release.\n",
      "\n",
      "statsmodels.tsa.arima.model.ARIMA makes use of the statespace framework and\n",
      "is both well tested and maintained.\n",
      "\n",
      "To silence this warning and continue using ARMA and ARIMA until they are\n",
      "removed, use:\n",
      "\n",
      "import warnings\n",
      "warnings.filterwarnings('ignore', 'statsmodels.tsa.arima_model.ARMA',\n",
      "                        FutureWarning)\n",
      "warnings.filterwarnings('ignore', 'statsmodels.tsa.arima_model.ARIMA',\n",
      "                        FutureWarning)\n",
      "\n",
      "  warnings.warn(ARIMA_DEPRECATION_WARN, FutureWarning)\n"
     ]
    }
   ],
   "source": [
    "# 가격 데이터로 ARIMA 모델을 학습시킨다.\n",
    "# (AR=2, 차분=1, MA=2) 의 파라미터를 적용시킨다.\n",
    "model = ARIMA(bitcoin_test_df_train.y.values, order = (2,1,2))\n",
    "\n",
    "# \n",
    "model_fit = model.fit(trend='c', full_output = True, disp = True)\n",
    "print(model_fit.summary())"
   ]
  },
  {
   "cell_type": "markdown",
   "id": "f7a3b25e",
   "metadata": {},
   "source": [
    "## train data로 학습시킨 모델을 사용해 5일 후 데이터를 예측한다"
   ]
  },
  {
   "cell_type": "markdown",
   "id": "80d07142",
   "metadata": {},
   "source": [
    "0번 array : 예측값  \n",
    "1번 array : 표준오차  \n",
    "2번 array : CI  "
   ]
  },
  {
   "cell_type": "code",
   "execution_count": 76,
   "id": "78ab909f",
   "metadata": {
    "scrolled": true
   },
   "outputs": [
    {
     "data": {
      "text/plain": [
       "(array([34633.89620835, 34854.59261203, 35002.3525731 , 35098.00436482,\n",
       "        35172.35381268]),\n",
       " array([1542.53036317, 2070.96927343, 2558.59115219, 3018.88501528,\n",
       "        3438.44656479]),\n",
       " array([[31610.59225148, 37657.20016521],\n",
       "        [30795.56742303, 38913.61780104],\n",
       "        [29987.60606364, 40017.09908256],\n",
       "        [29181.0984614 , 41014.91026824],\n",
       "        [28433.12238293, 41911.58524243]]))"
      ]
     },
     "execution_count": 76,
     "metadata": {},
     "output_type": "execute_result"
    }
   ],
   "source": [
    "forecast_data = model_fit.forecast(steps = 5)\n",
    "forecast_data"
   ]
  },
  {
   "cell_type": "code",
   "execution_count": 77,
   "id": "6c9a84a9",
   "metadata": {},
   "outputs": [],
   "source": [
    "pred_y = forecast_data[0]\n",
    "test_y = target.y.values\n",
    "pred_y_lower = []\n",
    "pred_y_upper = []\n",
    "\n",
    "# CI 값을 각 lower, upper 리스트에 넣어준다.\n",
    "for lower_upper in forecast_data[2]:\n",
    "    lower = lower_upper[0]\n",
    "    upper = lower_upper[1]\n",
    "    pred_y_lower.append(lower)\n",
    "    pred_y_upper.append(upper)\n"
   ]
  },
  {
   "cell_type": "code",
   "execution_count": 78,
   "id": "ac1db99e",
   "metadata": {
    "scrolled": true
   },
   "outputs": [
    {
     "data": {
      "text/plain": [
       "[<matplotlib.lines.Line2D at 0x126392b50>]"
      ]
     },
     "execution_count": 78,
     "metadata": {},
     "output_type": "execute_result"
    },
    {
     "data": {
      "image/png": "[encoded data removed]",
      "text/plain": [
       "<Figure size 432x288 with 1 Axes>"
      ]
     },
     "metadata": {
      "needs_background": "light"
     },
     "output_type": "display_data"
    }
   ],
   "source": [
    "plt.plot(pred_y, color=\"gold\") # 모델이 예상한 가격 그래프입니다.\n",
    "plt.plot(pred_y_lower, color=\"red\") # 모델이 예상한 최소가격 그래프입니다.\n",
    "plt.plot(pred_y_upper, color=\"blue\") # 모델이 예상한 최대가격 그래프입니다.\n",
    "plt.plot(test_y, color=\"green\") # 실제 가격 그래프입니다."
   ]
  },
  {
   "cell_type": "code",
   "execution_count": 79,
   "id": "537b2a27",
   "metadata": {},
   "outputs": [
    {
     "data": {
      "text/plain": [
       "[<matplotlib.lines.Line2D at 0x1265ec040>]"
      ]
     },
     "execution_count": 79,
     "metadata": {},
     "output_type": "execute_result"
    },
    {
     "data": {
      "image/png": "[encoded data removed]",
      "text/plain": [
       "<Figure size 432x288 with 1 Axes>"
      ]
     },
     "metadata": {
      "needs_background": "light"
     },
     "output_type": "display_data"
    }
   ],
   "source": [
    "plt.plot(pred_y, color=\"gold\")\n",
    "plt.plot(test_y, color=\"green\")"
   ]
  },
  {
   "cell_type": "markdown",
   "id": "0179db5e",
   "metadata": {},
   "source": [
    "전체적으로 크기 빗나가지는 않았지만  \n",
    "자세하게 살펴보면 가격 변동 모양이 많이 다르다.  \n",
    "차이도 최대 2000 달러 가까이 났다."
   ]
  },
  {
   "cell_type": "markdown",
   "id": "f545f562",
   "metadata": {},
   "source": [
    "# 페이스북 시계열 라이브러리로 적용해보기"
   ]
  },
  {
   "cell_type": "markdown",
   "id": "50ce40bc",
   "metadata": {},
   "source": [
    "## 데이터 불러오기"
   ]
  },
  {
   "cell_type": "code",
   "execution_count": 117,
   "id": "49e18946",
   "metadata": {},
   "outputs": [],
   "source": [
    "import pandas as pd\n",
    "import numpy as np\n",
    "import matplotlib.pyplot as plt\n",
    "import seaborn as sns\n",
    "import matplotlib as mp\n",
    "\n",
    "%matplotlib inline\n",
    "\n",
    "from fbprophet import Prophet"
   ]
  },
  {
   "cell_type": "code",
   "execution_count": 118,
   "id": "fd1cb7aa",
   "metadata": {},
   "outputs": [],
   "source": [
    "# prophet을 사용하기 위해서는 다음과 같이 피처의 이름을 변경해야 합니다 : 'ds', 'y'\n",
    "\n",
    "# csv 불러오기\n",
    "bitcoin_df = pd.read_csv(\"market-price_210704.csv\", names=['ds', 'y'])\n",
    "\n",
    "# 필요없는 0행 지움. dtype도 바꿔줌.\n",
    "bitcoin_df = bitcoin_df.drop(0)\n",
    "bitcoin_df['y'] = pd.to_numeric(bitcoin_df['y'])"
   ]
  },
  {
   "cell_type": "markdown",
   "id": "f58a570a",
   "metadata": {},
   "source": [
    "## train, test 데이터 나누기"
   ]
  },
  {
   "cell_type": "code",
   "execution_count": 119,
   "id": "60b5ab66",
   "metadata": {},
   "outputs": [],
   "source": [
    "bitcoin_df_train = bitcoin_df.iloc[:-5, :]\n",
    "bitcoin_df_test = bitcoin_df.iloc[-5:, :]"
   ]
  },
  {
   "cell_type": "markdown",
   "id": "e9fb94ae",
   "metadata": {},
   "source": [
    "## train 데이터로 Prophet 객체 생성. 옵션은 아래와 같음."
   ]
  },
  {
   "cell_type": "code",
   "execution_count": 121,
   "id": "7e624492",
   "metadata": {},
   "outputs": [
    {
     "data": {
      "text/plain": [
       "<fbprophet.forecaster.Prophet at 0x128c39a00>"
      ]
     },
     "execution_count": 121,
     "metadata": {},
     "output_type": "execute_result"
    }
   ],
   "source": [
    "prophet = Prophet(seasonality_mode='multiplicative', \n",
    "                  yearly_seasonality=True,\n",
    "                  weekly_seasonality=True, daily_seasonality=True,\n",
    "                  changepoint_prior_scale=0.5)\n",
    "\n",
    "# 데이터를 fit하기\n",
    "prophet.fit(bitcoin_df_train)"
   ]
  },
  {
   "cell_type": "markdown",
   "id": "56047f00",
   "metadata": {},
   "source": [
    "## 학습된 Prophet객체로 예측 데이터 생성"
   ]
  },
  {
   "cell_type": "code",
   "execution_count": 122,
   "id": "68828c81",
   "metadata": {},
   "outputs": [
    {
     "data": {
      "text/html": [
       "<div>\n",
       "<style scoped>\n",
       "    .dataframe tbody tr th:only-of-type {\n",
       "        vertical-align: middle;\n",
       "    }\n",
       "\n",
       "    .dataframe tbody tr th {\n",
       "        vertical-align: top;\n",
       "    }\n",
       "\n",
       "    .dataframe thead th {\n",
       "        text-align: right;\n",
       "    }\n",
       "</style>\n",
       "<table border=\"1\" class=\"dataframe\">\n",
       "  <thead>\n",
       "    <tr style=\"text-align: right;\">\n",
       "      <th></th>\n",
       "      <th>ds</th>\n",
       "      <th>trend</th>\n",
       "      <th>yhat_lower</th>\n",
       "      <th>yhat_upper</th>\n",
       "      <th>trend_lower</th>\n",
       "      <th>trend_upper</th>\n",
       "      <th>daily</th>\n",
       "      <th>daily_lower</th>\n",
       "      <th>daily_upper</th>\n",
       "      <th>multiplicative_terms</th>\n",
       "      <th>...</th>\n",
       "      <th>weekly</th>\n",
       "      <th>weekly_lower</th>\n",
       "      <th>weekly_upper</th>\n",
       "      <th>yearly</th>\n",
       "      <th>yearly_lower</th>\n",
       "      <th>yearly_upper</th>\n",
       "      <th>additive_terms</th>\n",
       "      <th>additive_terms_lower</th>\n",
       "      <th>additive_terms_upper</th>\n",
       "      <th>yhat</th>\n",
       "    </tr>\n",
       "  </thead>\n",
       "  <tbody>\n",
       "    <tr>\n",
       "      <th>0</th>\n",
       "      <td>2020-07-04</td>\n",
       "      <td>1485.999823</td>\n",
       "      <td>7346.493921</td>\n",
       "      <td>10892.710865</td>\n",
       "      <td>1485.999823</td>\n",
       "      <td>1485.999823</td>\n",
       "      <td>6.30169</td>\n",
       "      <td>6.30169</td>\n",
       "      <td>6.30169</td>\n",
       "      <td>5.205287</td>\n",
       "      <td>...</td>\n",
       "      <td>-0.008935</td>\n",
       "      <td>-0.008935</td>\n",
       "      <td>-0.008935</td>\n",
       "      <td>-1.087469</td>\n",
       "      <td>-1.087469</td>\n",
       "      <td>-1.087469</td>\n",
       "      <td>0.0</td>\n",
       "      <td>0.0</td>\n",
       "      <td>0.0</td>\n",
       "      <td>9221.055060</td>\n",
       "    </tr>\n",
       "    <tr>\n",
       "      <th>1</th>\n",
       "      <td>2020-07-05</td>\n",
       "      <td>1455.144842</td>\n",
       "      <td>7532.295778</td>\n",
       "      <td>10936.315473</td>\n",
       "      <td>1455.144842</td>\n",
       "      <td>1455.144842</td>\n",
       "      <td>6.30169</td>\n",
       "      <td>6.30169</td>\n",
       "      <td>6.30169</td>\n",
       "      <td>5.326188</td>\n",
       "      <td>...</td>\n",
       "      <td>-0.012942</td>\n",
       "      <td>-0.012942</td>\n",
       "      <td>-0.012942</td>\n",
       "      <td>-0.962560</td>\n",
       "      <td>-0.962560</td>\n",
       "      <td>-0.962560</td>\n",
       "      <td>0.0</td>\n",
       "      <td>0.0</td>\n",
       "      <td>0.0</td>\n",
       "      <td>9205.519737</td>\n",
       "    </tr>\n",
       "    <tr>\n",
       "      <th>2</th>\n",
       "      <td>2020-07-06</td>\n",
       "      <td>1424.289861</td>\n",
       "      <td>7366.382593</td>\n",
       "      <td>10955.585305</td>\n",
       "      <td>1424.289861</td>\n",
       "      <td>1424.289861</td>\n",
       "      <td>6.30169</td>\n",
       "      <td>6.30169</td>\n",
       "      <td>6.30169</td>\n",
       "      <td>5.444452</td>\n",
       "      <td>...</td>\n",
       "      <td>-0.028969</td>\n",
       "      <td>-0.028969</td>\n",
       "      <td>-0.028969</td>\n",
       "      <td>-0.828269</td>\n",
       "      <td>-0.828269</td>\n",
       "      <td>-0.828269</td>\n",
       "      <td>0.0</td>\n",
       "      <td>0.0</td>\n",
       "      <td>0.0</td>\n",
       "      <td>9178.768282</td>\n",
       "    </tr>\n",
       "    <tr>\n",
       "      <th>3</th>\n",
       "      <td>2020-07-07</td>\n",
       "      <td>1393.434881</td>\n",
       "      <td>7585.514043</td>\n",
       "      <td>11018.476322</td>\n",
       "      <td>1393.434881</td>\n",
       "      <td>1393.434881</td>\n",
       "      <td>6.30169</td>\n",
       "      <td>6.30169</td>\n",
       "      <td>6.30169</td>\n",
       "      <td>5.630542</td>\n",
       "      <td>...</td>\n",
       "      <td>0.015553</td>\n",
       "      <td>0.015553</td>\n",
       "      <td>0.015553</td>\n",
       "      <td>-0.686701</td>\n",
       "      <td>-0.686701</td>\n",
       "      <td>-0.686701</td>\n",
       "      <td>0.0</td>\n",
       "      <td>0.0</td>\n",
       "      <td>0.0</td>\n",
       "      <td>9239.228184</td>\n",
       "    </tr>\n",
       "    <tr>\n",
       "      <th>4</th>\n",
       "      <td>2020-07-08</td>\n",
       "      <td>1362.579900</td>\n",
       "      <td>7484.916544</td>\n",
       "      <td>11029.862236</td>\n",
       "      <td>1362.579900</td>\n",
       "      <td>1362.579900</td>\n",
       "      <td>6.30169</td>\n",
       "      <td>6.30169</td>\n",
       "      <td>6.30169</td>\n",
       "      <td>5.779664</td>\n",
       "      <td>...</td>\n",
       "      <td>0.018155</td>\n",
       "      <td>0.018155</td>\n",
       "      <td>0.018155</td>\n",
       "      <td>-0.540182</td>\n",
       "      <td>-0.540182</td>\n",
       "      <td>-0.540182</td>\n",
       "      <td>0.0</td>\n",
       "      <td>0.0</td>\n",
       "      <td>0.0</td>\n",
       "      <td>9237.833324</td>\n",
       "    </tr>\n",
       "    <tr>\n",
       "      <th>...</th>\n",
       "      <td>...</td>\n",
       "      <td>...</td>\n",
       "      <td>...</td>\n",
       "      <td>...</td>\n",
       "      <td>...</td>\n",
       "      <td>...</td>\n",
       "      <td>...</td>\n",
       "      <td>...</td>\n",
       "      <td>...</td>\n",
       "      <td>...</td>\n",
       "      <td>...</td>\n",
       "      <td>...</td>\n",
       "      <td>...</td>\n",
       "      <td>...</td>\n",
       "      <td>...</td>\n",
       "      <td>...</td>\n",
       "      <td>...</td>\n",
       "      <td>...</td>\n",
       "      <td>...</td>\n",
       "      <td>...</td>\n",
       "      <td>...</td>\n",
       "    </tr>\n",
       "    <tr>\n",
       "      <th>361</th>\n",
       "      <td>2021-06-30</td>\n",
       "      <td>5693.232623</td>\n",
       "      <td>31591.913033</td>\n",
       "      <td>34821.605086</td>\n",
       "      <td>5693.232623</td>\n",
       "      <td>5693.232623</td>\n",
       "      <td>6.30169</td>\n",
       "      <td>6.30169</td>\n",
       "      <td>6.30169</td>\n",
       "      <td>4.842321</td>\n",
       "      <td>...</td>\n",
       "      <td>0.018155</td>\n",
       "      <td>0.018155</td>\n",
       "      <td>0.018155</td>\n",
       "      <td>-1.477524</td>\n",
       "      <td>-1.477524</td>\n",
       "      <td>-1.477524</td>\n",
       "      <td>0.0</td>\n",
       "      <td>0.0</td>\n",
       "      <td>0.0</td>\n",
       "      <td>33261.694763</td>\n",
       "    </tr>\n",
       "    <tr>\n",
       "      <th>362</th>\n",
       "      <td>2021-07-01</td>\n",
       "      <td>5650.470268</td>\n",
       "      <td>31755.349361</td>\n",
       "      <td>35012.185096</td>\n",
       "      <td>5650.470268</td>\n",
       "      <td>5650.470268</td>\n",
       "      <td>6.30169</td>\n",
       "      <td>6.30169</td>\n",
       "      <td>6.30169</td>\n",
       "      <td>4.902103</td>\n",
       "      <td>...</td>\n",
       "      <td>0.009164</td>\n",
       "      <td>0.009164</td>\n",
       "      <td>0.009164</td>\n",
       "      <td>-1.408751</td>\n",
       "      <td>-1.408751</td>\n",
       "      <td>-1.408751</td>\n",
       "      <td>0.0</td>\n",
       "      <td>0.0</td>\n",
       "      <td>0.0</td>\n",
       "      <td>33349.657611</td>\n",
       "    </tr>\n",
       "    <tr>\n",
       "      <th>363</th>\n",
       "      <td>2021-07-02</td>\n",
       "      <td>5607.707913</td>\n",
       "      <td>31629.046849</td>\n",
       "      <td>35322.493916</td>\n",
       "      <td>5604.920508</td>\n",
       "      <td>5607.707913</td>\n",
       "      <td>6.30169</td>\n",
       "      <td>6.30169</td>\n",
       "      <td>6.30169</td>\n",
       "      <td>4.984418</td>\n",
       "      <td>...</td>\n",
       "      <td>0.007973</td>\n",
       "      <td>0.007973</td>\n",
       "      <td>0.007973</td>\n",
       "      <td>-1.325245</td>\n",
       "      <td>-1.325245</td>\n",
       "      <td>-1.325245</td>\n",
       "      <td>0.0</td>\n",
       "      <td>0.0</td>\n",
       "      <td>0.0</td>\n",
       "      <td>33558.869599</td>\n",
       "    </tr>\n",
       "    <tr>\n",
       "      <th>364</th>\n",
       "      <td>2021-07-03</td>\n",
       "      <td>5564.945558</td>\n",
       "      <td>31959.694115</td>\n",
       "      <td>35574.515925</td>\n",
       "      <td>5532.196058</td>\n",
       "      <td>5570.102697</td>\n",
       "      <td>6.30169</td>\n",
       "      <td>6.30169</td>\n",
       "      <td>6.30169</td>\n",
       "      <td>5.065107</td>\n",
       "      <td>...</td>\n",
       "      <td>-0.008935</td>\n",
       "      <td>-0.008935</td>\n",
       "      <td>-0.008935</td>\n",
       "      <td>-1.227648</td>\n",
       "      <td>-1.227648</td>\n",
       "      <td>-1.227648</td>\n",
       "      <td>0.0</td>\n",
       "      <td>0.0</td>\n",
       "      <td>0.0</td>\n",
       "      <td>33751.989645</td>\n",
       "    </tr>\n",
       "    <tr>\n",
       "      <th>365</th>\n",
       "      <td>2021-07-04</td>\n",
       "      <td>5522.183203</td>\n",
       "      <td>32122.743668</td>\n",
       "      <td>35806.653563</td>\n",
       "      <td>5453.614283</td>\n",
       "      <td>5545.338229</td>\n",
       "      <td>6.30169</td>\n",
       "      <td>6.30169</td>\n",
       "      <td>6.30169</td>\n",
       "      <td>5.171740</td>\n",
       "      <td>...</td>\n",
       "      <td>-0.012942</td>\n",
       "      <td>-0.012942</td>\n",
       "      <td>-0.012942</td>\n",
       "      <td>-1.117008</td>\n",
       "      <td>-1.117008</td>\n",
       "      <td>-1.117008</td>\n",
       "      <td>0.0</td>\n",
       "      <td>0.0</td>\n",
       "      <td>0.0</td>\n",
       "      <td>34081.478626</td>\n",
       "    </tr>\n",
       "  </tbody>\n",
       "</table>\n",
       "<p>366 rows × 22 columns</p>\n",
       "</div>"
      ],
      "text/plain": [
       "            ds        trend    yhat_lower    yhat_upper  trend_lower  \\\n",
       "0   2020-07-04  1485.999823   7346.493921  10892.710865  1485.999823   \n",
       "1   2020-07-05  1455.144842   7532.295778  10936.315473  1455.144842   \n",
       "2   2020-07-06  1424.289861   7366.382593  10955.585305  1424.289861   \n",
       "3   2020-07-07  1393.434881   7585.514043  11018.476322  1393.434881   \n",
       "4   2020-07-08  1362.579900   7484.916544  11029.862236  1362.579900   \n",
       "..         ...          ...           ...           ...          ...   \n",
       "361 2021-06-30  5693.232623  31591.913033  34821.605086  5693.232623   \n",
       "362 2021-07-01  5650.470268  31755.349361  35012.185096  5650.470268   \n",
       "363 2021-07-02  5607.707913  31629.046849  35322.493916  5604.920508   \n",
       "364 2021-07-03  5564.945558  31959.694115  35574.515925  5532.196058   \n",
       "365 2021-07-04  5522.183203  32122.743668  35806.653563  5453.614283   \n",
       "\n",
       "     trend_upper    daily  daily_lower  daily_upper  multiplicative_terms  \\\n",
       "0    1485.999823  6.30169      6.30169      6.30169              5.205287   \n",
       "1    1455.144842  6.30169      6.30169      6.30169              5.326188   \n",
       "2    1424.289861  6.30169      6.30169      6.30169              5.444452   \n",
       "3    1393.434881  6.30169      6.30169      6.30169              5.630542   \n",
       "4    1362.579900  6.30169      6.30169      6.30169              5.779664   \n",
       "..           ...      ...          ...          ...                   ...   \n",
       "361  5693.232623  6.30169      6.30169      6.30169              4.842321   \n",
       "362  5650.470268  6.30169      6.30169      6.30169              4.902103   \n",
       "363  5607.707913  6.30169      6.30169      6.30169              4.984418   \n",
       "364  5570.102697  6.30169      6.30169      6.30169              5.065107   \n",
       "365  5545.338229  6.30169      6.30169      6.30169              5.171740   \n",
       "\n",
       "     ...    weekly  weekly_lower  weekly_upper    yearly  yearly_lower  \\\n",
       "0    ... -0.008935     -0.008935     -0.008935 -1.087469     -1.087469   \n",
       "1    ... -0.012942     -0.012942     -0.012942 -0.962560     -0.962560   \n",
       "2    ... -0.028969     -0.028969     -0.028969 -0.828269     -0.828269   \n",
       "3    ...  0.015553      0.015553      0.015553 -0.686701     -0.686701   \n",
       "4    ...  0.018155      0.018155      0.018155 -0.540182     -0.540182   \n",
       "..   ...       ...           ...           ...       ...           ...   \n",
       "361  ...  0.018155      0.018155      0.018155 -1.477524     -1.477524   \n",
       "362  ...  0.009164      0.009164      0.009164 -1.408751     -1.408751   \n",
       "363  ...  0.007973      0.007973      0.007973 -1.325245     -1.325245   \n",
       "364  ... -0.008935     -0.008935     -0.008935 -1.227648     -1.227648   \n",
       "365  ... -0.012942     -0.012942     -0.012942 -1.117008     -1.117008   \n",
       "\n",
       "     yearly_upper  additive_terms  additive_terms_lower  additive_terms_upper  \\\n",
       "0       -1.087469             0.0                   0.0                   0.0   \n",
       "1       -0.962560             0.0                   0.0                   0.0   \n",
       "2       -0.828269             0.0                   0.0                   0.0   \n",
       "3       -0.686701             0.0                   0.0                   0.0   \n",
       "4       -0.540182             0.0                   0.0                   0.0   \n",
       "..            ...             ...                   ...                   ...   \n",
       "361     -1.477524             0.0                   0.0                   0.0   \n",
       "362     -1.408751             0.0                   0.0                   0.0   \n",
       "363     -1.325245             0.0                   0.0                   0.0   \n",
       "364     -1.227648             0.0                   0.0                   0.0   \n",
       "365     -1.117008             0.0                   0.0                   0.0   \n",
       "\n",
       "             yhat  \n",
       "0     9221.055060  \n",
       "1     9205.519737  \n",
       "2     9178.768282  \n",
       "3     9239.228184  \n",
       "4     9237.833324  \n",
       "..            ...  \n",
       "361  33261.694763  \n",
       "362  33349.657611  \n",
       "363  33558.869599  \n",
       "364  33751.989645  \n",
       "365  34081.478626  \n",
       "\n",
       "[366 rows x 22 columns]"
      ]
     },
     "execution_count": 122,
     "metadata": {},
     "output_type": "execute_result"
    }
   ],
   "source": [
    "# 5일을 내다보며 예측합니다.\n",
    "# periods=5 : 5일 이후 데이터 예측\n",
    "# freq = 'd' : 1일씩 \n",
    "\n",
    "# future_data : 예측할 날짜만큼 데이터 프레임을 만들어줌. 아래에서는 5일 이후의 날짜가 들어있는 DF 를 만든다.\n",
    "future_data = prophet.make_future_dataframe(periods=5, freq='d')\n",
    "\n",
    "# forecast_data : 만들어둔 DF에다 Prophet 객체가 예측하여 데이터를 넣는다. 이전 데이터들을 분석해서 5일 이후의 데이터까지 넣어 완성함.\n",
    "forecast_data = prophet.predict(future_data)\n",
    "forecast_data\n",
    "# forecast_data[['ds', 'yhat', 'yhat_lower', 'yhat_upper']].tail(5)"
   ]
  },
  {
   "cell_type": "markdown",
   "id": "381c5ad4",
   "metadata": {},
   "source": [
    "## 예측 데이터로 그래프 만들어 보기"
   ]
  },
  {
   "cell_type": "markdown",
   "id": "8a05a003",
   "metadata": {},
   "source": [
    "### 전체 시간에 따른 예측"
   ]
  },
  {
   "cell_type": "code",
   "execution_count": 123,
   "id": "c50b4e1b",
   "metadata": {},
   "outputs": [
    {
     "data": {
      "image/png": "[encoded data removed]",
      "text/plain": [
       "<Figure size 720x432 with 1 Axes>"
      ]
     },
     "metadata": {},
     "output_type": "display_data"
    }
   ],
   "source": [
    "fig1 = prophet.plot(forecast_data)"
   ]
  },
  {
   "cell_type": "markdown",
   "id": "5ff3cb6b",
   "metadata": {},
   "source": [
    "### 월별, 주별, 일별 추세 시각화"
   ]
  },
  {
   "cell_type": "code",
   "execution_count": 124,
   "id": "ffd10136",
   "metadata": {
    "scrolled": false
   },
   "outputs": [
    {
     "name": "stderr",
     "output_type": "stream",
     "text": [
      "/opt/anaconda3/lib/python3.8/site-packages/fbprophet/plot.py:422: UserWarning: FixedFormatter should only be used together with FixedLocator\n",
      "  ax.set_yticklabels(yticklabels)\n",
      "/opt/anaconda3/lib/python3.8/site-packages/fbprophet/plot.py:422: UserWarning: FixedFormatter should only be used together with FixedLocator\n",
      "  ax.set_yticklabels(yticklabels)\n",
      "/opt/anaconda3/lib/python3.8/site-packages/fbprophet/plot.py:422: UserWarning: FixedFormatter should only be used together with FixedLocator\n",
      "  ax.set_yticklabels(yticklabels)\n"
     ]
    },
    {
     "data": {
      "image/png": "[encoded data removed]",
      "text/plain": [
       "<Figure size 648x864 with 4 Axes>"
      ]
     },
     "metadata": {},
     "output_type": "display_data"
    }
   ],
   "source": [
    "fig2 = prophet.plot_components(forecast_data)"
   ]
  },
  {
   "cell_type": "markdown",
   "id": "6d570aaf",
   "metadata": {},
   "source": [
    "## test 데이터로 5일간 예측치 비교해보기"
   ]
  },
  {
   "cell_type": "code",
   "execution_count": 125,
   "id": "654dc43b",
   "metadata": {},
   "outputs": [
    {
     "data": {
      "text/plain": [
       "[<matplotlib.lines.Line2D at 0x128ce64c0>]"
      ]
     },
     "execution_count": 125,
     "metadata": {},
     "output_type": "execute_result"
    },
    {
     "data": {
      "image/png": "[encoded data removed]",
      "text/plain": [
       "<Figure size 432x288 with 1 Axes>"
      ]
     },
     "metadata": {
      "needs_background": "light"
     },
     "output_type": "display_data"
    }
   ],
   "source": [
    "pred_y = forecast_data.yhat.values[-5:] \n",
    "test_y = bitcoin_df_test.y.values # test 데이터를 넣음\n",
    "pred_y_lower = forecast_data.yhat_lower.values[-5:]\n",
    "pred_y_upper = forecast_data.yhat_upper.values[-5:]\n",
    "\n",
    "plt.plot(pred_y, color=\"gold\") # 모델이 예상한 가격 그래프입니다.\n",
    "plt.plot(pred_y_lower, color=\"red\") # 모델이 예상한 최소가격 그래프입니다.\n",
    "plt.plot(pred_y_upper, color=\"blue\") # 모델이 예상한 최대가격 그래프입니다.\n",
    "plt.plot(test_y, color=\"green\") # 실제 가격 그래프입니다."
   ]
  },
  {
   "cell_type": "code",
   "execution_count": null,
   "id": "578a6a91",
   "metadata": {},
   "outputs": [],
   "source": []
  }
 ],
 "metadata": {
  "kernelspec": {
   "display_name": "Python 3",
   "language": "python",
   "name": "python3"
  },
  "language_info": {
   "codemirror_mode": {
    "name": "ipython",
    "version": 3
   },
   "file_extension": ".py",
   "mimetype": "text/x-python",
   "name": "python",
   "nbconvert_exporter": "python",
   "pygments_lexer": "ipython3",
   "version": "3.8.2"
  },
  "toc": {
   "base_numbering": 1,
   "nav_menu": {},
   "number_sections": true,
   "sideBar": true,
   "skip_h1_title": false,
   "title_cell": "Table of Contents",
   "title_sidebar": "Contents",
   "toc_cell": false,
   "toc_position": {
    "height": "calc(100% - 180px)",
    "left": "10px",
    "top": "150px",
    "width": "373.333px"
   },
   "toc_section_display": true,
   "toc_window_display": true
  }
 },
 "nbformat": 4,
 "nbformat_minor": 5
}
